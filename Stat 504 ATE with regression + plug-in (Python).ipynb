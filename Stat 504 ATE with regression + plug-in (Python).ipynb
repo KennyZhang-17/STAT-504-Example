{
 "cells": [
  {
   "cell_type": "markdown",
   "id": "9f699212",
   "metadata": {},
   "source": [
    "# Estimating average treatment effects\n",
    "\n",
    "In this notebook we will see how to estimate the ATE under the assumption of unconfoundedness using regression. \n",
    "\n",
    "There are many estimators for the ATE. Here we will take a simple approach, and use linear regression plus the plug-in principle to obtain a point estimate of the ATE.\n",
    "\n",
    "We then will use the nonparametric bootstrap to construct (approximately valid) confidence intervals."
   ]
  },
  {
   "cell_type": "markdown",
   "id": "7a3cd054",
   "metadata": {},
   "source": [
    "## The model\n",
    "\n",
    "To illustrate, consider the following *structural* model:\n",
    "\n",
    "$$\n",
    "\\begin{align}\n",
    "X_i &\\leftarrow  I(U_x >0)\\\\\n",
    "D_i &\\leftarrow I( \\gamma_0 + \\gamma_1 X_i  + U_d > 0) \\\\ \n",
    "Y_i &\\leftarrow \\beta_0 + \\beta_1 D_i + \\beta_2 X_i + \\beta_3 D_i X_i + U_d \\\\ \n",
    "\\end{align}\n",
    "$$\n",
    "\n",
    "Where $I(\\cdot)$ is the indicator function, and the $U$'s are mutually independent disturbances.\n",
    "\n",
    "Our goal is to identify the ATE:\n",
    "\n",
    "$$\n",
    "ATE = E[Y(1)] - E[Y(0)].\n",
    "$$\n",
    "\n",
    "In this model, the ATE evaluates to:\n",
    "\n",
    "\n",
    "$$\n",
    "\\begin{align}\n",
    "ATE \n",
    "&= E[ \\beta_0 + \\beta_1 (1) + \\beta_2 X_i + \\beta_3 (1) X_i + U_d] - E[ \\beta_0 + \\beta_1 (0) + \\beta_2 X_i + \\beta_3 (0) X_i + U_d]\\\\\n",
    "&= \\beta_1 +  \\beta_3 E[X_i] \n",
    "\\end{align}\n",
    "$$\n",
    "\n",
    "This structural model has the following associated causal diagram:"
   ]
  },
  {
   "cell_type": "code",
   "execution_count": 14,
   "id": "02f8a497",
   "metadata": {},
   "outputs": [
    {
     "data": {
      "image/png": "[encoded data removed]",
      "text/plain": [
       "<Figure size 432x288 with 1 Axes>"
      ]
     },
     "metadata": {},
     "output_type": "display_data"
    }
   ],
   "source": [
    "import networkx as nx\n",
    "graph = nx.DiGraph()\n",
    "graph.add_edges_from([(\"x\", \"d\"), (\"x\", \"y\"), (\"d\", \"y\")])\n",
    "nx.draw(graph,with_labels=True, arrows=True)"
   ]
  },
  {
   "cell_type": "markdown",
   "id": "53aac385",
   "metadata": {},
   "source": [
    "We see that $X$ satisfies the backdoor criterion for identifying the effect of $X$ on $Y$, and thus conditional ignorability holds:\n",
    "\n",
    "$$\n",
    "Y_i(d) \\perp\\!\\!\\!\\perp D_i \\mid X_i\n",
    "$$\n",
    "\n",
    "A well known result in causal inference is that the ATE can then be idenfied via the adjustment formula:\n",
    "\n",
    "$$\n",
    "ATE = E[E[Y_i|D_i=1, X_i] - E[Y_i|D_i=0, X_i] ]\n",
    "$$\n",
    "\n",
    "Our goal is to obtain a point estimate and a confidence interval for the ATE."
   ]
  },
  {
   "cell_type": "markdown",
   "id": "a843ce29",
   "metadata": {},
   "source": [
    "# Estimation and inference"
   ]
  },
  {
   "cell_type": "markdown",
   "id": "dd174531",
   "metadata": {},
   "source": [
    "Here we will simply use the sample analog of the above equation. First, we fit a regression model to estimate the CEF. Then we take the empirical expectation over $X_i$. Our estimator is:\n",
    "\n",
    "$$\n",
    "\\widehat{ATE}=\\frac{1}{n}\\sum_i[\\hat{E}[Y_i|D_i=1,X_i]-\\hat{E}[Y_i|D_i=0,X_i]]\n",
    "$$\n",
    "\n",
    "Where $\\hat{E}[Y_i|D_i,X_i]$ is our estimated regression. Let's to do this in R.\n",
    "\n",
    "First, let us simulate some data."
   ]
  },
  {
   "cell_type": "code",
   "execution_count": 8,
   "id": "aad6c314",
   "metadata": {},
   "outputs": [],
   "source": [
    "# simulate sample of size 1,000\n",
    "import numpy as np\n",
    "np.random.seed(5)\n",
    "n = 1000\n",
    "x = (np.random.normal(0,1,n) > 0)*1\n",
    "d = (x + np.random.normal(0,1,n) > 0 )*1\n",
    "y = 1 + 1*d + 3*x - 4*d*x + np.random.normal(0,1,n)"
   ]
  },
  {
   "cell_type": "markdown",
   "id": "a0ac484a",
   "metadata": {},
   "source": [
    "With the above parameters, we know the true ATE is:\n",
    "\n",
    "$$\n",
    "\\begin{align}\n",
    "ATE \n",
    "&= 1 -  4 \\times 0.5 = 1-2 = -1\n",
    "\\end{align}\n",
    "$$"
   ]
  },
  {
   "cell_type": "markdown",
   "id": "be78e8fa",
   "metadata": {},
   "source": [
    "Our plug-in estimate is:"
   ]
  },
  {
   "cell_type": "code",
   "execution_count": 9,
   "id": "f347e153",
   "metadata": {},
   "outputs": [
    {
     "data": {
      "text/plain": [
       "-1.0311935104667695"
      ]
     },
     "execution_count": 9,
     "metadata": {},
     "output_type": "execute_result"
    }
   ],
   "source": [
    "import statsmodels.formula.api as smf\n",
    "# ATE estimate\n",
    "data = {\"x\":x, \"y\":y,\"d\":d}\n",
    "# fit regression\n",
    "ols=smf.ols(formula = 'y ~ d+x+d:x', data = data).fit()\n",
    "Ey1 = np.mean(ols.predict({\"x\":x, \"d\":np.ones(len(x))}))\n",
    "Ey0 = np.mean(ols.predict({\"x\":x, \"d\":np.zeros(len(x))}))\n",
    "ATE = Ey1 - Ey0\n",
    "ATE"
   ]
  },
  {
   "cell_type": "markdown",
   "id": "edc00878",
   "metadata": {},
   "source": [
    "Which is close to the truth. \n",
    "\n",
    "Now we will construct a 95% confidence intervals using the nonparametric bootstrap (10,000 bootstrap samples)."
   ]
  },
  {
   "cell_type": "code",
   "execution_count": 11,
   "id": "82457f3e",
   "metadata": {},
   "outputs": [
    {
     "name": "stdout",
     "output_type": "stream",
     "text": [
      "Percentile CI for ATE: [-1.17770974 -0.88000477]\n"
     ]
    }
   ],
   "source": [
    "# signficance level\n",
    "alpha = 0.05\n",
    "\n",
    "ATE=np.zeros(10000)\n",
    "# bootstrap CI\n",
    "for i in range(10000):\n",
    "    # sample rows\n",
    "    idx=np.random.choice(np.arange(n), size=n, replace=True)\n",
    "    \n",
    "    # fit OLS to boostrapped cases\n",
    "    x_boot   = x[idx]\n",
    "    y_boot   = y[idx]\n",
    "    d_boot   = d[idx]\n",
    "    data = {\"x\":x_boot, \"y\":y_boot,\"d\":d_boot}\n",
    "    # fit regression\n",
    "    ols=smf.ols(formula = 'y ~ d+x+d:x', data = data).fit()\n",
    "    Ey1 = np.mean(ols.predict({\"x\":x, \"d\":np.ones(len(x))}))\n",
    "    Ey0 = np.mean(ols.predict({\"x\":x, \"d\":np.zeros(len(x))}))\n",
    "    ATE[i] = Ey1 - Ey0\n",
    "\n",
    "# CI for ATE\n",
    "print(\"Percentile CI for ATE:\",np.quantile(ATE,[alpha/2,1-alpha/2]))"
   ]
  }
 ],
 "metadata": {
  "kernelspec": {
   "display_name": "Python 3.9.7 64-bit ('base': conda)",
   "language": "python",
   "name": "python397jvsc74a57bd0d3ca1c00f977588ad6d8d33ad3ddd9dc06389ddd86a87423e5e5ddfb9f1cf524"
  },
  "language_info": {
   "codemirror_mode": {
    "name": "ipython",
    "version": 3
   },
   "file_extension": ".py",
   "mimetype": "text/x-python",
   "name": "python",
   "nbconvert_exporter": "python",
   "pygments_lexer": "ipython3",
   "version": "3.9.7"
  }
 },
 "nbformat": 4,
 "nbformat_minor": 5
}
