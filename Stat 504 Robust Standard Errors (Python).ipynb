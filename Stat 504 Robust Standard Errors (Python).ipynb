{
 "cells": [
  {
   "cell_type": "markdown",
   "id": "84072a7d",
   "metadata": {},
   "source": [
    "## Tradional Standard Errors and Confidence Intervals"
   ]
  },
  {
   "cell_type": "markdown",
   "id": "9f0fd683",
   "metadata": {},
   "source": [
    "The statsmodel package in Python computes traditional standard errors by default. These standard errors depend on the assumptions of linearity and homoscedascity.\n",
    "\n",
    "Let's simulate some data with heteroscedastic errors:"
   ]
  },
  {
   "cell_type": "code",
   "execution_count": 1,
   "id": "18a7d446",
   "metadata": {},
   "outputs": [],
   "source": [
    "# simulate heteroscedastic data\n",
    "import numpy as np\n",
    "np.random.seed(5) \n",
    "n = 100\n",
    "x = np.random.normal(0,1,n)\n",
    "y = np.random.normal(0.5 + x, np.sqrt(1 + 5*(x**2)),n)"
   ]
  },
  {
   "cell_type": "markdown",
   "id": "013fd463",
   "metadata": {},
   "source": [
    "Now if we call summary and conf_int, we obtain traditional standard errors and confidence intervals."
   ]
  },
  {
   "cell_type": "code",
   "execution_count": 2,
   "id": "c4c5e5c5",
   "metadata": {},
   "outputs": [],
   "source": [
    "import statsmodels.api as sm\n",
    "# add a constant to covariates\n",
    "X   = sm.add_constant(x)\n",
    "\n",
    "# fit ols model\n",
    "ols = sm.OLS(y, X).fit()"
   ]
  },
  {
   "cell_type": "code",
   "execution_count": 3,
   "id": "a192bd16",
   "metadata": {},
   "outputs": [
    {
     "data": {
      "text/plain": [
       "array([[0.01436528, 1.00465512],\n",
       "       [1.08686885, 2.14547369]])"
      ]
     },
     "execution_count": 3,
     "metadata": {},
     "output_type": "execute_result"
    }
   ],
   "source": [
    "ols.conf_int()"
   ]
  },
  {
   "cell_type": "code",
   "execution_count": 4,
   "id": "0cf854f9",
   "metadata": {},
   "outputs": [
    {
     "data": {
      "text/html": [
       "<table class=\"simpletable\">\n",
       "<caption>OLS Regression Results</caption>\n",
       "<tr>\n",
       "  <th>Dep. Variable:</th>            <td>y</td>        <th>  R-squared:         </th> <td>   0.273</td>\n",
       "</tr>\n",
       "<tr>\n",
       "  <th>Model:</th>                   <td>OLS</td>       <th>  Adj. R-squared:    </th> <td>   0.265</td>\n",
       "</tr>\n",
       "<tr>\n",
       "  <th>Method:</th>             <td>Least Squares</td>  <th>  F-statistic:       </th> <td>   36.72</td>\n",
       "</tr>\n",
       "<tr>\n",
       "  <th>Date:</th>             <td>Tue, 22 Feb 2022</td> <th>  Prob (F-statistic):</th> <td>2.54e-08</td>\n",
       "</tr>\n",
       "<tr>\n",
       "  <th>Time:</th>                 <td>20:14:41</td>     <th>  Log-Likelihood:    </th> <td> -231.84</td>\n",
       "</tr>\n",
       "<tr>\n",
       "  <th>No. Observations:</th>      <td>   100</td>      <th>  AIC:               </th> <td>   467.7</td>\n",
       "</tr>\n",
       "<tr>\n",
       "  <th>Df Residuals:</th>          <td>    98</td>      <th>  BIC:               </th> <td>   472.9</td>\n",
       "</tr>\n",
       "<tr>\n",
       "  <th>Df Model:</th>              <td>     1</td>      <th>                     </th>     <td> </td>   \n",
       "</tr>\n",
       "<tr>\n",
       "  <th>Covariance Type:</th>      <td>nonrobust</td>    <th>                     </th>     <td> </td>   \n",
       "</tr>\n",
       "</table>\n",
       "<table class=\"simpletable\">\n",
       "<tr>\n",
       "    <td></td>       <th>coef</th>     <th>std err</th>      <th>t</th>      <th>P>|t|</th>  <th>[0.025</th>    <th>0.975]</th>  \n",
       "</tr>\n",
       "<tr>\n",
       "  <th>const</th> <td>    0.5095</td> <td>    0.250</td> <td>    2.042</td> <td> 0.044</td> <td>    0.014</td> <td>    1.005</td>\n",
       "</tr>\n",
       "<tr>\n",
       "  <th>x1</th>    <td>    1.6162</td> <td>    0.267</td> <td>    6.059</td> <td> 0.000</td> <td>    1.087</td> <td>    2.145</td>\n",
       "</tr>\n",
       "</table>\n",
       "<table class=\"simpletable\">\n",
       "<tr>\n",
       "  <th>Omnibus:</th>       <td>27.517</td> <th>  Durbin-Watson:     </th> <td>   2.076</td>\n",
       "</tr>\n",
       "<tr>\n",
       "  <th>Prob(Omnibus):</th> <td> 0.000</td> <th>  Jarque-Bera (JB):  </th> <td> 108.770</td>\n",
       "</tr>\n",
       "<tr>\n",
       "  <th>Skew:</th>          <td>-0.764</td> <th>  Prob(JB):          </th> <td>2.40e-24</td>\n",
       "</tr>\n",
       "<tr>\n",
       "  <th>Kurtosis:</th>      <td> 7.875</td> <th>  Cond. No.          </th> <td>    1.13</td>\n",
       "</tr>\n",
       "</table><br/><br/>Notes:<br/>[1] Standard Errors assume that the covariance matrix of the errors is correctly specified."
      ],
      "text/plain": [
       "<class 'statsmodels.iolib.summary.Summary'>\n",
       "\"\"\"\n",
       "                            OLS Regression Results                            \n",
       "==============================================================================\n",
       "Dep. Variable:                      y   R-squared:                       0.273\n",
       "Model:                            OLS   Adj. R-squared:                  0.265\n",
       "Method:                 Least Squares   F-statistic:                     36.72\n",
       "Date:                Tue, 22 Feb 2022   Prob (F-statistic):           2.54e-08\n",
       "Time:                        20:14:41   Log-Likelihood:                -231.84\n",
       "No. Observations:                 100   AIC:                             467.7\n",
       "Df Residuals:                      98   BIC:                             472.9\n",
       "Df Model:                           1                                         \n",
       "Covariance Type:            nonrobust                                         \n",
       "==============================================================================\n",
       "                 coef    std err          t      P>|t|      [0.025      0.975]\n",
       "------------------------------------------------------------------------------\n",
       "const          0.5095      0.250      2.042      0.044       0.014       1.005\n",
       "x1             1.6162      0.267      6.059      0.000       1.087       2.145\n",
       "==============================================================================\n",
       "Omnibus:                       27.517   Durbin-Watson:                   2.076\n",
       "Prob(Omnibus):                  0.000   Jarque-Bera (JB):              108.770\n",
       "Skew:                          -0.764   Prob(JB):                     2.40e-24\n",
       "Kurtosis:                       7.875   Cond. No.                         1.13\n",
       "==============================================================================\n",
       "\n",
       "Notes:\n",
       "[1] Standard Errors assume that the covariance matrix of the errors is correctly specified.\n",
       "\"\"\""
      ]
     },
     "execution_count": 4,
     "metadata": {},
     "output_type": "execute_result"
    }
   ],
   "source": [
    "ols.summary()"
   ]
  },
  {
   "cell_type": "markdown",
   "id": "2f158df1",
   "metadata": {},
   "source": [
    "Note, in this particular example, the confidence interval for the coefficient of $X$ does not cover the true value (1)."
   ]
  },
  {
   "cell_type": "markdown",
   "id": "5e1c1503",
   "metadata": {},
   "source": [
    "## Robust Standard Errors and Confidence Intervals"
   ]
  },
  {
   "cell_type": "markdown",
   "id": "e475c3f6",
   "metadata": {},
   "source": [
    "You could easily compute robust standard errors by yourself, using the formulas we have learned in class. However, the Python package Statsmodels also compute those for you.\n",
    "\n",
    "Here we are going to use the specification \"HC0.\" There are many further variations, which we will not go over here."
   ]
  },
  {
   "cell_type": "code",
   "execution_count": 5,
   "id": "f7e4facb",
   "metadata": {},
   "outputs": [
    {
     "data": {
      "text/html": [
       "<table class=\"simpletable\">\n",
       "<caption>OLS Regression Results</caption>\n",
       "<tr>\n",
       "  <th>Dep. Variable:</th>            <td>y</td>        <th>  R-squared:         </th> <td>   0.273</td>\n",
       "</tr>\n",
       "<tr>\n",
       "  <th>Model:</th>                   <td>OLS</td>       <th>  Adj. R-squared:    </th> <td>   0.265</td>\n",
       "</tr>\n",
       "<tr>\n",
       "  <th>Method:</th>             <td>Least Squares</td>  <th>  F-statistic:       </th> <td>   12.54</td>\n",
       "</tr>\n",
       "<tr>\n",
       "  <th>Date:</th>             <td>Tue, 22 Feb 2022</td> <th>  Prob (F-statistic):</th> <td>0.000612</td>\n",
       "</tr>\n",
       "<tr>\n",
       "  <th>Time:</th>                 <td>20:14:41</td>     <th>  Log-Likelihood:    </th> <td> -231.84</td>\n",
       "</tr>\n",
       "<tr>\n",
       "  <th>No. Observations:</th>      <td>   100</td>      <th>  AIC:               </th> <td>   467.7</td>\n",
       "</tr>\n",
       "<tr>\n",
       "  <th>Df Residuals:</th>          <td>    98</td>      <th>  BIC:               </th> <td>   472.9</td>\n",
       "</tr>\n",
       "<tr>\n",
       "  <th>Df Model:</th>              <td>     1</td>      <th>                     </th>     <td> </td>   \n",
       "</tr>\n",
       "<tr>\n",
       "  <th>Covariance Type:</th>         <td>HC0</td>       <th>                     </th>     <td> </td>   \n",
       "</tr>\n",
       "</table>\n",
       "<table class=\"simpletable\">\n",
       "<tr>\n",
       "    <td></td>       <th>coef</th>     <th>std err</th>      <th>z</th>      <th>P>|z|</th>  <th>[0.025</th>    <th>0.975]</th>  \n",
       "</tr>\n",
       "<tr>\n",
       "  <th>const</th> <td>    0.5095</td> <td>    0.233</td> <td>    2.188</td> <td> 0.029</td> <td>    0.053</td> <td>    0.966</td>\n",
       "</tr>\n",
       "<tr>\n",
       "  <th>x1</th>    <td>    1.6162</td> <td>    0.456</td> <td>    3.541</td> <td> 0.000</td> <td>    0.722</td> <td>    2.511</td>\n",
       "</tr>\n",
       "</table>\n",
       "<table class=\"simpletable\">\n",
       "<tr>\n",
       "  <th>Omnibus:</th>       <td>27.517</td> <th>  Durbin-Watson:     </th> <td>   2.076</td>\n",
       "</tr>\n",
       "<tr>\n",
       "  <th>Prob(Omnibus):</th> <td> 0.000</td> <th>  Jarque-Bera (JB):  </th> <td> 108.770</td>\n",
       "</tr>\n",
       "<tr>\n",
       "  <th>Skew:</th>          <td>-0.764</td> <th>  Prob(JB):          </th> <td>2.40e-24</td>\n",
       "</tr>\n",
       "<tr>\n",
       "  <th>Kurtosis:</th>      <td> 7.875</td> <th>  Cond. No.          </th> <td>    1.13</td>\n",
       "</tr>\n",
       "</table><br/><br/>Notes:<br/>[1] Standard Errors are heteroscedasticity robust (HC0)"
      ],
      "text/plain": [
       "<class 'statsmodels.iolib.summary.Summary'>\n",
       "\"\"\"\n",
       "                            OLS Regression Results                            \n",
       "==============================================================================\n",
       "Dep. Variable:                      y   R-squared:                       0.273\n",
       "Model:                            OLS   Adj. R-squared:                  0.265\n",
       "Method:                 Least Squares   F-statistic:                     12.54\n",
       "Date:                Tue, 22 Feb 2022   Prob (F-statistic):           0.000612\n",
       "Time:                        20:14:41   Log-Likelihood:                -231.84\n",
       "No. Observations:                 100   AIC:                             467.7\n",
       "Df Residuals:                      98   BIC:                             472.9\n",
       "Df Model:                           1                                         \n",
       "Covariance Type:                  HC0                                         \n",
       "==============================================================================\n",
       "                 coef    std err          z      P>|z|      [0.025      0.975]\n",
       "------------------------------------------------------------------------------\n",
       "const          0.5095      0.233      2.188      0.029       0.053       0.966\n",
       "x1             1.6162      0.456      3.541      0.000       0.722       2.511\n",
       "==============================================================================\n",
       "Omnibus:                       27.517   Durbin-Watson:                   2.076\n",
       "Prob(Omnibus):                  0.000   Jarque-Bera (JB):              108.770\n",
       "Skew:                          -0.764   Prob(JB):                     2.40e-24\n",
       "Kurtosis:                       7.875   Cond. No.                         1.13\n",
       "==============================================================================\n",
       "\n",
       "Notes:\n",
       "[1] Standard Errors are heteroscedasticity robust (HC0)\n",
       "\"\"\""
      ]
     },
     "execution_count": 5,
     "metadata": {},
     "output_type": "execute_result"
    }
   ],
   "source": [
    "ols_robust=sm.OLS(y, X).fit(cov_type = \"HC0\")\n",
    "\n",
    "# robust se\n",
    "ols_robust.summary()"
   ]
  },
  {
   "cell_type": "code",
   "execution_count": 6,
   "id": "9134c346",
   "metadata": {},
   "outputs": [
    {
     "data": {
      "text/plain": [
       "array([[0.05308206, 0.96593833],\n",
       "       [0.72158712, 2.51075542]])"
      ]
     },
     "execution_count": 6,
     "metadata": {},
     "output_type": "execute_result"
    }
   ],
   "source": [
    "# robust confidence interval\n",
    "ols_robust.conf_int()"
   ]
  }
 ],
 "metadata": {
  "kernelspec": {
   "display_name": "Python 3.9.7 64-bit ('base': conda)",
   "language": "python",
   "name": "python397jvsc74a57bd0d3ca1c00f977588ad6d8d33ad3ddd9dc06389ddd86a87423e5e5ddfb9f1cf524"
  },
  "language_info": {
   "codemirror_mode": {
    "name": "ipython",
    "version": 3
   },
   "file_extension": ".py",
   "mimetype": "text/x-python",
   "name": "python",
   "nbconvert_exporter": "python",
   "pygments_lexer": "ipython3",
   "version": "3.9.7"
  }
 },
 "nbformat": 4,
 "nbformat_minor": 5
}
