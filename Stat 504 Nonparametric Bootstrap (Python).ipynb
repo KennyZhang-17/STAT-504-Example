{
 "cells": [
  {
   "cell_type": "markdown",
   "id": "42bb6f0d",
   "metadata": {},
   "source": [
    "# Simple Nonparametric Bootstrap for Regression"
   ]
  },
  {
   "cell_type": "markdown",
   "id": "a7b98a7f",
   "metadata": {},
   "source": [
    "## Simulate Data"
   ]
  },
  {
   "cell_type": "code",
   "execution_count": 1,
   "id": "2f3faa97",
   "metadata": {},
   "outputs": [],
   "source": [
    "# set parameters of the simulation\n",
    "\n",
    "# sample size\n",
    "n = 100 \n",
    "\n",
    "# true alpha\n",
    "alpha = 3\n",
    "\n",
    "# true beta\n",
    "beta = 7\n",
    "\n",
    "# true residual standard deviation \n",
    "s = 2"
   ]
  },
  {
   "cell_type": "code",
   "execution_count": 2,
   "id": "e5e20e9f",
   "metadata": {},
   "outputs": [],
   "source": [
    "import numpy as np\n",
    "# simulate data \n",
    "x = np.random.normal(0,1,n)\n",
    "y = alpha + beta*x + np.random.normal(0,s,n)"
   ]
  },
  {
   "cell_type": "markdown",
   "id": "43802e67",
   "metadata": {},
   "source": [
    "## Fit OLS"
   ]
  },
  {
   "cell_type": "code",
   "execution_count": 3,
   "id": "01e9310d",
   "metadata": {},
   "outputs": [
    {
     "data": {
      "text/plain": [
       "array([3.07362   , 6.96670523])"
      ]
     },
     "execution_count": 3,
     "metadata": {},
     "output_type": "execute_result"
    }
   ],
   "source": [
    "import statsmodels.api as sm\n",
    "# add a constant to covariates\n",
    "X   = sm.add_constant(x)\n",
    "\n",
    "# fit ols model\n",
    "ols = sm.OLS(y, X).fit()\n",
    "\n",
    "# estimated coefficients\n",
    "ols.params"
   ]
  },
  {
   "cell_type": "markdown",
   "id": "0bc60e5f",
   "metadata": {},
   "source": [
    "## Bootstrap samples"
   ]
  },
  {
   "cell_type": "code",
   "execution_count": 4,
   "id": "7f96d914",
   "metadata": {},
   "outputs": [],
   "source": [
    "# nonparametric bootstrap using for loop\n",
    "\n",
    "## number of bootstrap replications\n",
    "B = 10000\n",
    "\n",
    "## vectors to store results\n",
    "alpha_boot = np.zeros(B)\n",
    "beta_boot  = np.zeros(B)\n",
    "\n",
    "# bootstrap samples\n",
    "for j in range(B):\n",
    "    # sample cases (rows)\n",
    "    idx=np.random.choice(np.arange(n), size=n, replace=True)\n",
    "    \n",
    "    # fit OLS to boostrapped cases\n",
    "    x_boot   = x[idx]\n",
    "    y_boot   = y[idx]\n",
    "    X   = sm.add_constant(x_boot)\n",
    "    ols_boot = sm.OLS(y_boot, X).fit()\n",
    "    \n",
    "    # save results\n",
    "    alpha_boot[j] = ols_boot.params[0]\n",
    "    beta_boot[j]  = ols_boot.params[1]"
   ]
  },
  {
   "cell_type": "markdown",
   "id": "571179b2",
   "metadata": {},
   "source": [
    "## Percentile CI"
   ]
  },
  {
   "cell_type": "code",
   "execution_count": 5,
   "id": "2bb87601",
   "metadata": {},
   "outputs": [
    {
     "name": "stdout",
     "output_type": "stream",
     "text": [
      "Percentile CI for alpha: [2.71145782 3.44704429]\n",
      "Percentile CI for beta: [6.57381737 7.31994956]\n"
     ]
    }
   ],
   "source": [
    "# set significance level\n",
    "alpha = 0.05\n",
    "\n",
    "# Percentile CI\n",
    "\n",
    "## CI for alpha\n",
    "print(\"Percentile CI for alpha:\",np.quantile(alpha_boot,[alpha/2,1-alpha/2]))\n",
    "\n",
    "\n",
    "## CI for beta\n",
    "print(\"Percentile CI for beta:\",np.quantile(beta_boot, (alpha/2, 1-alpha/2)))\n"
   ]
  },
  {
   "cell_type": "markdown",
   "id": "3ee20f2d",
   "metadata": {},
   "source": [
    "## Normal approximation CI"
   ]
  },
  {
   "cell_type": "code",
   "execution_count": 6,
   "id": "4b785dfc",
   "metadata": {},
   "outputs": [
    {
     "name": "stdout",
     "output_type": "stream",
     "text": [
      "Normal approximation CI for alpha: 2.7084410201763345 3.438798970048191\n",
      "Normal approximation CI for beta: 6.594173324486633 7.339237129865804\n"
     ]
    }
   ],
   "source": [
    "# Normal approximation CI\n",
    "\n",
    "## critical threshold\n",
    "z = 1.96\n",
    "\n",
    "## compute bootstrap standard errors\n",
    "sd_boot_a = np.std(alpha_boot)\n",
    "sd_boot_b = np.std(beta_boot)\n",
    "\n",
    "## CI for alpha\n",
    "print(\"Normal approximation CI for alpha:\",ols.params[0]-z*sd_boot_a,ols.params[0]+z*sd_boot_a)\n",
    "\n",
    "## CI for beta\n",
    "print(\"Normal approximation CI for beta:\",ols.params[1]-z*sd_boot_b,ols.params[1]+z*sd_boot_b)"
   ]
  },
  {
   "cell_type": "markdown",
   "id": "20ea4c11",
   "metadata": {},
   "source": [
    "## Comparison to parametric CI"
   ]
  },
  {
   "cell_type": "code",
   "execution_count": 7,
   "id": "1fb12d12",
   "metadata": {},
   "outputs": [
    {
     "data": {
      "text/plain": [
       "array([[2.70110281, 3.44613718],\n",
       "       [6.579273  , 7.35413745]])"
      ]
     },
     "execution_count": 7,
     "metadata": {},
     "output_type": "execute_result"
    }
   ],
   "source": [
    "ols.conf_int(alpha=0.05)"
   ]
  }
 ],
 "metadata": {
  "kernelspec": {
   "display_name": "Python 3.9.7 64-bit ('base': conda)",
   "language": "python",
   "name": "python397jvsc74a57bd0d3ca1c00f977588ad6d8d33ad3ddd9dc06389ddd86a87423e5e5ddfb9f1cf524"
  },
  "language_info": {
   "codemirror_mode": {
    "name": "ipython",
    "version": 3
   },
   "file_extension": ".py",
   "mimetype": "text/x-python",
   "name": "python",
   "nbconvert_exporter": "python",
   "pygments_lexer": "ipython3",
   "version": "3.9.7"
  }
 },
 "nbformat": 4,
 "nbformat_minor": 5
}
