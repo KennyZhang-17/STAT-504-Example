{
 "cells": [
  {
   "cell_type": "code",
   "execution_count": 1,
   "id": "487d5f5c",
   "metadata": {},
   "outputs": [
    {
     "data": {
      "text/html": [
       "<div>\n",
       "<style scoped>\n",
       "    .dataframe tbody tr th:only-of-type {\n",
       "        vertical-align: middle;\n",
       "    }\n",
       "\n",
       "    .dataframe tbody tr th {\n",
       "        vertical-align: top;\n",
       "    }\n",
       "\n",
       "    .dataframe thead th {\n",
       "        text-align: right;\n",
       "    }\n",
       "</style>\n",
       "<table border=\"1\" class=\"dataframe\">\n",
       "  <thead>\n",
       "    <tr style=\"text-align: right;\">\n",
       "      <th></th>\n",
       "      <th>year</th>\n",
       "      <th>growth</th>\n",
       "      <th>vote</th>\n",
       "      <th>inc_party_candidate</th>\n",
       "      <th>other_candidate</th>\n",
       "    </tr>\n",
       "  </thead>\n",
       "  <tbody>\n",
       "    <tr>\n",
       "      <th>0</th>\n",
       "      <td>1952</td>\n",
       "      <td>2.40</td>\n",
       "      <td>44.60</td>\n",
       "      <td>Stevenson</td>\n",
       "      <td>Eisenhower</td>\n",
       "    </tr>\n",
       "    <tr>\n",
       "      <th>1</th>\n",
       "      <td>1956</td>\n",
       "      <td>2.89</td>\n",
       "      <td>57.76</td>\n",
       "      <td>Eisenhower</td>\n",
       "      <td>Stevenson</td>\n",
       "    </tr>\n",
       "    <tr>\n",
       "      <th>2</th>\n",
       "      <td>1960</td>\n",
       "      <td>0.85</td>\n",
       "      <td>49.91</td>\n",
       "      <td>Nixon</td>\n",
       "      <td>Kennedy</td>\n",
       "    </tr>\n",
       "    <tr>\n",
       "      <th>3</th>\n",
       "      <td>1964</td>\n",
       "      <td>4.21</td>\n",
       "      <td>61.34</td>\n",
       "      <td>Johnson</td>\n",
       "      <td>Goldwater</td>\n",
       "    </tr>\n",
       "    <tr>\n",
       "      <th>4</th>\n",
       "      <td>1968</td>\n",
       "      <td>3.02</td>\n",
       "      <td>49.60</td>\n",
       "      <td>Humphrey</td>\n",
       "      <td>Nixon</td>\n",
       "    </tr>\n",
       "  </tbody>\n",
       "</table>\n",
       "</div>"
      ],
      "text/plain": [
       "   year  growth   vote inc_party_candidate other_candidate\n",
       "0  1952    2.40  44.60           Stevenson      Eisenhower\n",
       "1  1956    2.89  57.76          Eisenhower       Stevenson\n",
       "2  1960    0.85  49.91               Nixon         Kennedy\n",
       "3  1964    4.21  61.34             Johnson       Goldwater\n",
       "4  1968    3.02  49.60            Humphrey           Nixon"
      ]
     },
     "execution_count": 1,
     "metadata": {},
     "output_type": "execute_result"
    }
   ],
   "source": [
    "import pandas as pd\n",
    "hibbs=pd.read_table('hibbs.dat',sep='\\s+')\n",
    "hibbs.head()"
   ]
  },
  {
   "cell_type": "code",
   "execution_count": 2,
   "id": "c78c2068",
   "metadata": {},
   "outputs": [],
   "source": [
    "# confidence level\n",
    "alpha = 0.1\n",
    "\n",
    "# imports\n",
    "import statsmodels.formula.api as smf\n",
    "\n",
    "# runs regression model\n",
    "reg_model = smf.ols(formula='vote ~ growth', data=hibbs)\n",
    "ols = reg_model.fit()\n",
    "\n",
    "# classical parametric confidence interval\n",
    "param_ci = ols.get_prediction(hibbs).conf_int(alpha=alpha)\n"
   ]
  },
  {
   "cell_type": "code",
   "execution_count": 3,
   "id": "838326ae",
   "metadata": {},
   "outputs": [],
   "source": [
    "import numpy as np\n",
    "# nonparametric bootstrap confidence interval\n",
    "import statsmodels.api as sm\n",
    "\n",
    "# bootstrap function\n",
    "def boot_fun(N):\n",
    "    result=[]\n",
    "    for i in range(N):\n",
    "        idx=np.random.choice(np.arange(len(hibbs)), size=len(hibbs), replace=True)\n",
    "        # run ols on sample\n",
    "        x=hibbs.iloc[idx,].growth.values\n",
    "        y=hibbs.iloc[idx,].vote.values\n",
    "        X   = sm.add_constant(x)\n",
    "        ols_boot = sm.OLS(y, X).fit()\n",
    "        # predict and append result\n",
    "        yhat_boot=ols_boot.predict(sm.add_constant(hibbs.growth.values))\n",
    "        result.append(yhat_boot)\n",
    "    return result\n",
    "\n",
    "# replicate 10,000 times\n",
    "boot_out=boot_fun(10000)\n",
    "\n",
    "# quantile confidence interval\n",
    "quantiles=np.quantile(boot_out,[alpha/2,1-alpha/2],axis=0)\n",
    "boot_lwr,boot_upr=quantiles[0],quantiles[1]"
   ]
  },
  {
   "cell_type": "code",
   "execution_count": 4,
   "id": "a626b717",
   "metadata": {},
   "outputs": [],
   "source": [
    "# data for plot\n",
    "ci_data=pd.DataFrame({'growth':hibbs['growth'],'vote':hibbs['vote'],'boot_lwr':boot_lwr,\n",
    "                      'boot_upr':boot_upr,'param_lwr':param_ci[:,0],'param_upr':param_ci[:,1],'fit':ols.fittedvalues})\n",
    "ci_data=ci_data.sort_values(\"growth\")"
   ]
  },
  {
   "cell_type": "code",
   "execution_count": 5,
   "id": "1038d177",
   "metadata": {},
   "outputs": [
    {
     "data": {
      "image/png": "[encoded data removed]",
      "text/plain": [
       "<Figure size 432x288 with 1 Axes>"
      ]
     },
     "metadata": {
      "needs_background": "light"
     },
     "output_type": "display_data"
    }
   ],
   "source": [
    "from matplotlib import pyplot as plt\n",
    "# plot\n",
    "plt.scatter(ci_data['growth'],ci_data['vote'])\n",
    "plt.plot(ci_data['growth'],ci_data['fit'],color='b',alpha=0.5)\n",
    "plt.fill_between(ci_data['growth'], ci_data['boot_lwr'], ci_data['boot_upr'], color='r',alpha=0.15,label='Bootstrap')\n",
    "plt.fill_between(ci_data['growth'], ci_data['param_lwr'], ci_data['param_upr'], color='b',alpha=0.15,label='Parametric')\n",
    "plt.xlabel('growth')\n",
    "plt.ylabel('vote')\n",
    "plt.legend(loc='upper left')\n",
    "plt.show()"
   ]
  },
  {
   "cell_type": "code",
   "execution_count": 6,
   "id": "15b9ef09",
   "metadata": {},
   "outputs": [],
   "source": [
    "# classical parametric prediction interval\n",
    "param_pi=ols.get_prediction(hibbs).summary_frame(0.1)[['obs_ci_lower','obs_ci_upper']]"
   ]
  },
  {
   "cell_type": "code",
   "execution_count": 7,
   "id": "830e561f",
   "metadata": {},
   "outputs": [],
   "source": [
    "import statsmodels.api as sm\n",
    "# Define Conformal Inference Functions\n",
    "\n",
    "## Conformal Test\n",
    "def test_y0(y,x,y0,x0,alpha=0.1):\n",
    "    n=len(y)\n",
    "    xx=np.append(x,x0)\n",
    "    yy=np.append(y,y0)\n",
    "    # add a constant to covariates\n",
    "    X=sm.add_constant(xx)\n",
    "    # fit ols model\n",
    "    ols = sm.OLS(yy, X).fit()\n",
    "    res=np.abs(ols.resid)\n",
    "    res_y0=res[n]\n",
    "    pi_y=np.mean(res_y0>=res)\n",
    "    include = pi_y*(n + 1) <= np.ceil((1 - alpha)*(n + 1))\n",
    "    return include\n",
    "\n",
    "## Loop over all x0 and a grid of test values for y0\n",
    "def conformalInterval(y, x, x0, alpha = 0.1, length = 100, scale = 1):\n",
    "    y_max=np.max(np.abs(y))*scale\n",
    "    y0=np.linspace(-y_max,y_max,length)\n",
    "    out=[]\n",
    "    for j in range(len(x0)):\n",
    "        include=np.zeros(len(y0),dtype=bool)\n",
    "        for i in range(len(y0)):\n",
    "            include[i]=test_y0(y,x,y0[i],x0[j],alpha=0.1)\n",
    "        out.append(y0[include])\n",
    "    return out"
   ]
  },
  {
   "cell_type": "code",
   "execution_count": 8,
   "id": "7e7a42f1",
   "metadata": {},
   "outputs": [],
   "source": [
    "# compute conformal interval\n",
    "conf_out = conformalInterval(y = hibbs.vote.values, x = hibbs.growth.values, x0 = hibbs.growth.values, alpha = 0.1)\n",
    "conf_lwr, conf_upr=[np.min(i) for i in conf_out],[np.max(i) for i in conf_out]\n"
   ]
  },
  {
   "cell_type": "code",
   "execution_count": 9,
   "id": "4ffffeee",
   "metadata": {},
   "outputs": [],
   "source": [
    "# data for plot\n",
    "pi_data=pd.DataFrame({'growth':hibbs['growth'],'vote':hibbs['vote'],'conf_lwr':conf_lwr,\n",
    "                      'conf_upr':conf_upr,'param_lwr':param_pi['obs_ci_lower'],\n",
    "                      'param_upr':param_pi['obs_ci_upper'],'fit':ols.fittedvalues})\n",
    "pi_data=pi_data.sort_values(\"growth\")"
   ]
  },
  {
   "cell_type": "code",
   "execution_count": 10,
   "id": "642a86c9",
   "metadata": {},
   "outputs": [
    {
     "data": {
      "image/png": "[encoded data removed]",
      "text/plain": [
       "<Figure size 432x288 with 1 Axes>"
      ]
     },
     "metadata": {
      "needs_background": "light"
     },
     "output_type": "display_data"
    }
   ],
   "source": [
    "# plot\n",
    "plt.scatter(pi_data['growth'],pi_data['vote'])\n",
    "plt.plot(pi_data['growth'],pi_data['fit'],color='b',alpha=0.5)\n",
    "plt.fill_between(pi_data['growth'], pi_data['conf_lwr'], pi_data['conf_upr'], color='r',alpha=0.15,label='Conformal')\n",
    "plt.fill_between(pi_data['growth'], pi_data['param_lwr'], pi_data['param_upr'], color='b',alpha=0.15,label='Parametric')\n",
    "plt.xlabel('growth')\n",
    "plt.ylabel('vote')\n",
    "plt.legend(loc='upper left')\n",
    "plt.show()"
   ]
  }
 ],
 "metadata": {
  "kernelspec": {
   "display_name": "Python 3.9.7 64-bit ('base': conda)",
   "language": "python",
   "name": "python397jvsc74a57bd0d3ca1c00f977588ad6d8d33ad3ddd9dc06389ddd86a87423e5e5ddfb9f1cf524"
  },
  "language_info": {
   "codemirror_mode": {
    "name": "ipython",
    "version": 3
   },
   "file_extension": ".py",
   "mimetype": "text/x-python",
   "name": "python",
   "nbconvert_exporter": "python",
   "pygments_lexer": "ipython3",
   "version": "3.9.7"
  }
 },
 "nbformat": 4,
 "nbformat_minor": 5
}
